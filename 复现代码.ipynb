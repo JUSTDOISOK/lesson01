{
 "cells": [
  {
   "cell_type": "markdown",
   "metadata": {},
   "source": [
    "给定一个语法，如何生成语法？\n",
    "\n",
    "语法示例1（numbers()）"
   ]
  },
  {
   "cell_type": "code",
   "execution_count": 108,
   "metadata": {},
   "outputs": [],
   "source": [
    "two_numbers = '''\n",
    "2_nums => num | num\n",
    "num* => num num* | num\n",
    "num => 0 | 1 | 2 | 3 | 4 |\n",
    "\n",
    "'''"
   ]
  },
  {
   "cell_type": "code",
   "execution_count": 109,
   "metadata": {},
   "outputs": [
    {
     "data": {
      "text/plain": [
       "' 1 '"
      ]
     },
     "execution_count": 109,
     "metadata": {},
     "output_type": "execute_result"
    }
   ],
   "source": [
    "import random\n",
    "def two_nums():return num() + num()\n",
    "\n",
    "def num():\n",
    "    return random.choice(\"0 | 1 | 2 | 3 | 4 |\".split(\"|\"))\n",
    "def numbers():\n",
    "    if random.random()<0.5:\n",
    "        return num()\n",
    "    else:\n",
    "        return num()+numbers()\n",
    "num()"
   ]
  },
  {
   "cell_type": "code",
   "execution_count": 111,
   "metadata": {},
   "outputs": [
    {
     "data": {
      "text/plain": [
       "'0  3 '"
      ]
     },
     "execution_count": 111,
     "metadata": {},
     "output_type": "execute_result"
    }
   ],
   "source": [
    "two_nums()"
   ]
  },
  {
   "cell_type": "code",
   "execution_count": 112,
   "metadata": {},
   "outputs": [
    {
     "name": "stdout",
     "output_type": "stream",
     "text": [
      "0 \n",
      " 2 \n",
      " 2  4  4 \n",
      " 1 \n",
      " 4 \n",
      "\n",
      " 2 \n",
      " 4 \n",
      " 2 \n",
      " 2 \n"
     ]
    }
   ],
   "source": [
    "for i in range(10):\n",
    "    print(numbers())"
   ]
  },
  {
   "cell_type": "markdown",
   "metadata": {},
   "source": [
    "语法示例1思考？\n",
    "\n",
    "1.语法可以通过定义简单的函数去实现\n",
    "\n",
    "2.可以通过递归来生成更复杂的文字（递归）\n",
    "\n",
    "\n",
    "\n"
   ]
  },
  {
   "cell_type": "code",
   "execution_count": null,
   "metadata": {},
   "outputs": [],
   "source": []
  },
  {
   "cell_type": "code",
   "execution_count": null,
   "metadata": {},
   "outputs": [],
   "source": []
  },
  {
   "cell_type": "markdown",
   "metadata": {},
   "source": [
    "\n",
    "\n",
    "\n",
    "\n",
    "语法示例2"
   ]
  },
  {
   "cell_type": "code",
   "execution_count": 113,
   "metadata": {},
   "outputs": [],
   "source": [
    "simple_grammer=\"\"\"\n",
    "sentence=>noun_phrase + verb_phrase\n",
    "noun_phrase=>Article + adj* + noun\n",
    "adj*=> null | adj + adj*\n",
    "verb_phrase=>verb + noun_phrase\n",
    "Article=> 一个 | 这个 | 那个 \n",
    "noun=> 女人 | 桌子 | 汽车 | 小狗 | 小强\n",
    "Adj=> 漂亮的 | 好看的 | 蓝色的 | 可爱的 | 新的\n",
    "Verb=> 看着 | 听着 | 吃着 | 喝着 | 趴着 \n",
    "\"\"\""
   ]
  },
  {
   "cell_type": "code",
   "execution_count": 116,
   "metadata": {},
   "outputs": [
    {
     "name": "stdout",
     "output_type": "stream",
     "text": [
      " \n",
      "新的 \n",
      " \n",
      " \n",
      "蓝色的 \n",
      "新的 \n",
      "蓝色的 \n",
      " \n",
      "新的 \n",
      " \n"
     ]
    }
   ],
   "source": [
    "def adj(): return random.choice('漂亮的 | 好看的 | 蓝色的 | 可爱的 | 新的'.split('|')).split()[0]\n",
    "def adj_star():\n",
    "    return random.choice([lambda:\" \",lambda:adj()+adj_star()])()\n",
    "for i in range(10):\n",
    "    print(adj_star())"
   ]
  },
  {
   "cell_type": "code",
   "execution_count": 117,
   "metadata": {},
   "outputs": [
    {
     "name": "stdout",
     "output_type": "stream",
     "text": [
      "那个漂亮的 小狗喝着一个 桌子\n",
      "那个 汽车听着这个 汽车\n",
      "一个可爱的 汽车喝着这个 汽车\n",
      "那个 小强喝着一个可爱的可爱的新的漂亮的 小强\n",
      "一个新的新的好看的漂亮的 汽车趴着这个 小强\n",
      "那个 汽车听着那个蓝色的 桌子\n",
      "这个蓝色的好看的 汽车喝着一个蓝色的 桌子\n",
      "那个 小狗趴着这个好看的 小强\n",
      "那个新的 小强看着这个新的新的蓝色的可爱的新的 小狗\n",
      "一个蓝色的漂亮的 桌子听着这个蓝色的 小狗\n"
     ]
    }
   ],
   "source": [
    "def Article():return random.choice('一个 | 这个 | 那个'.split('|')).split()[0]\n",
    "Article()\n",
    "def verb():return random.choice('看着 | 听着 | 吃着 | 喝着 | 趴着'.split('|')).split()[0]\n",
    "def noun():return random.choice('女人 | 桌子 | 汽车 | 小狗 | 小强'.split('|')).split()[0]\n",
    "def noun_phrase():return Article() + adj_star() + noun()\n",
    "def verb_phrase():return verb() + noun_phrase()\n",
    "def sentence():return noun_phrase() + verb_phrase()\n",
    "for i in range(10):\n",
    "    print(sentence())"
   ]
  },
  {
   "cell_type": "markdown",
   "metadata": {},
   "source": [
    "语法示例2思考？\n",
    "\n",
    "But the question is???\n",
    "\n",
    "如果更换了语法，所有的程序必须重新写，问题的输入会影响函数本身，得再重新定义函数。\n",
    "\n",
    "解决？？\n"
   ]
  },
  {
   "cell_type": "code",
   "execution_count": 118,
   "metadata": {},
   "outputs": [],
   "source": [
    "two_numbers='''\n",
    "two => num + num | num - num\n",
    "\n",
    "\n",
    "num => 0 | 1 | 2 | 3 | 4 | 5\n",
    "'''"
   ]
  },
  {
   "cell_type": "code",
   "execution_count": 119,
   "metadata": {},
   "outputs": [
    {
     "name": "stdout",
     "output_type": "stream",
     "text": [
      "two  : [['num', '+', 'num'], ['num', '-', 'num']]\n",
      "num  : [['0'], ['1'], ['2'], ['3'], ['4'], ['5']]\n"
     ]
    }
   ],
   "source": [
    "def generate_grammar(grammar_str:str,target,split=\"=>\"):\n",
    "    grammar={}\n",
    "    for line in grammar_str.split(\"\\n\"):\n",
    "        if not line:continue\n",
    "        express,formula=line.split(split)\n",
    "        formulas=formula.split(\"|\")\n",
    "        formulas=[f.split() for f in formulas]\n",
    "        grammar[express.strip()]=formulas\n",
    "        print(express,\":\",formulas)\n",
    "    return grammar\n",
    "generate_grammar=generate_grammar(two_numbers,target='two')\n"
   ]
  },
  {
   "cell_type": "code",
   "execution_count": 120,
   "metadata": {},
   "outputs": [
    {
     "data": {
      "text/plain": [
       "{'two': [['num', '+', 'num'], ['num', '-', 'num']],\n",
       " 'num': [['0'], ['1'], ['2'], ['3'], ['4'], ['5']]}"
      ]
     },
     "execution_count": 120,
     "metadata": {},
     "output_type": "execute_result"
    }
   ],
   "source": [
    "generate_grammar"
   ]
  },
  {
   "cell_type": "markdown",
   "metadata": {},
   "source": [
    "现在，将刚开始的字符串two_numbers的输入转化位了一个dict，即grammer（仅输入格式变了str—>dict）"
   ]
  },
  {
   "cell_type": "markdown",
   "metadata": {},
   "source": [
    "现在，需要提取dict中的表达式"
   ]
  },
  {
   "cell_type": "code",
   "execution_count": 121,
   "metadata": {},
   "outputs": [],
   "source": [
    "def generater_by_grammar(grammar:dict,target:str):\n",
    "    if target not in grammar: return target\n",
    "#     the above is to test if target is a key.\n",
    "    expr=random.choice(grammar[target])\n",
    "    return \"\".join(generater_by_grammar(grammar,t) for t in expr)\n",
    "    "
   ]
  },
  {
   "cell_type": "code",
   "execution_count": 122,
   "metadata": {},
   "outputs": [
    {
     "name": "stdout",
     "output_type": "stream",
     "text": [
      "2-2\n",
      "1-4\n",
      "4+5\n",
      "5-5\n",
      "2-2\n",
      "4+3\n",
      "0-2\n",
      "1-4\n",
      "5+5\n",
      "3+4\n"
     ]
    }
   ],
   "source": [
    "for formula in range(10):\n",
    "    print(generater_by_grammar(generate_grammar,\"two\"))"
   ]
  },
  {
   "cell_type": "markdown",
   "metadata": {},
   "source": [
    "上述代码整理到一块示下"
   ]
  },
  {
   "cell_type": "code",
   "execution_count": 123,
   "metadata": {},
   "outputs": [
    {
     "name": "stdout",
     "output_type": "stream",
     "text": [
      "3-33*33/1\n",
      "4*50/4\n",
      "5-42-3\n",
      "4+0\n",
      "2-4\n",
      "2*33+22*2\n",
      "2*34/31*22-45*44/43+22+0\n",
      "1/4\n",
      "4/55+12/1\n",
      "0-50+2\n"
     ]
    }
   ],
   "source": [
    "numbers_ops='''\n",
    "expression=> num_op | num_op expression\n",
    "num_op=> num op num\n",
    "op=> + | - | * | /\n",
    "\n",
    "\n",
    "num => 0 | 1 | 2 | 3 | 4 | 5\n",
    "'''\n",
    "def generate_grammar(grammar_str:str,target,split=\"=>\"):\n",
    "    grammar={}\n",
    "    for line in grammar_str.split(\"\\n\"):\n",
    "        if not line:continue\n",
    "        express,formula=line.split(split)\n",
    "        formulas=formula.split(\"|\")\n",
    "        formulas=[f.split() for f in formulas]\n",
    "        grammar[express.strip()]=formulas\n",
    "    return grammar\n",
    "def generater_by_grammar(grammar:dict,target:str):\n",
    "    if target not in grammar: return target\n",
    "#     the above is to test if target is a key.\n",
    "    expr=random.choice(grammar[target])\n",
    "    return \"\".join(generater_by_grammar(grammar,t) for t in expr)\n",
    "def generater_gramar_by_str(grammar_str,split,target):\n",
    "    grammar=generate_grammar(grammar_str,target,split)\n",
    "    return generater_by_grammar(grammar,target)\n",
    "\n",
    "for formula in range(10):\n",
    "    print(generater_gramar_by_str(numbers_ops,\"=>\",\"expression\"))\n"
   ]
  },
  {
   "cell_type": "markdown",
   "metadata": {},
   "source": [
    "上述那样做的原因是：问题输入改变，程序无序重新再写\n",
    "\n",
    "如下"
   ]
  },
  {
   "cell_type": "code",
   "execution_count": null,
   "metadata": {},
   "outputs": [],
   "source": []
  },
  {
   "cell_type": "code",
   "execution_count": 124,
   "metadata": {},
   "outputs": [
    {
     "name": "stdout",
     "output_type": "stream",
     "text": [
      "我找找玩的\n",
      "我想找点玩的\n",
      "我们想找点玩的\n",
      "我们找找玩的\n",
      "俺找找玩的\n",
      "我找找玩的\n",
      "我找找乐子\n",
      "我们找找乐子\n",
      "我想找点玩的\n",
      "俺找找乐子\n"
     ]
    }
   ],
   "source": [
    "human = \"\"\"\n",
    "human = 自己 寻找 活动\n",
    "自己 = 我 | 俺 | 我们 \n",
    "寻找 = 找找 | 想找点 \n",
    "活动 = 乐子 | 玩的\n",
    "\"\"\"\n",
    "for formula in range(10):\n",
    "    print(generater_gramar_by_str(human,\"=\",\"human\"))"
   ]
  },
  {
   "cell_type": "markdown",
   "metadata": {},
   "source": [
    "又如"
   ]
  },
  {
   "cell_type": "code",
   "execution_count": 127,
   "metadata": {},
   "outputs": [],
   "source": [
    "host = \"\"\"\n",
    "host = 寒暄 报数 询问 业务相关 结尾 \n",
    "报数 = 我是 数字 号 ,\n",
    "数字 = 单个数字 | 数字 单个数字 \n",
    "单个数字 = 1 | 2 | 3 | 4 | 5 | 6 | 7 | 8 | 9 \n",
    "寒暄 = 称谓 打招呼 | 打招呼\n",
    "称谓 = 人称 ,\n",
    "人称 = 先生 | 女士 | 小朋友\n",
    "打招呼 = 你好 | 您好 \n",
    "询问 = 请问你要 | 您需要\n",
    "业务相关 = 玩玩 具体业务\n",
    "玩玩 = null\n",
    "具体业务 = 喝酒 | 打牌 | 打猎 | 赌博\n",
    "结尾 = 吗？\n",
    "\"\"\""
   ]
  },
  {
   "cell_type": "code",
   "execution_count": 45,
   "metadata": {},
   "outputs": [
    {
     "name": "stdout",
     "output_type": "stream",
     "text": [
      "你好我是494号,您需要null喝酒吗？\n",
      "先生,您好我是3号,请问你要null喝酒吗？\n",
      "先生,你好我是3号,请问你要null打猎吗？\n",
      "小朋友,您好我是8号,请问你要null赌博吗？\n",
      "女士,你好我是4号,请问你要null打牌吗？\n",
      "你好我是475号,您需要null赌博吗？\n",
      "女士,你好我是8号,您需要null赌博吗？\n",
      "您好我是1361号,您需要null喝酒吗？\n",
      "你好我是296号,请问你要null赌博吗？\n",
      "先生,你好我是62号,您需要null打猎吗？\n"
     ]
    }
   ],
   "source": [
    "for formula in range(10):\n",
    "    print(generater_gramar_by_str(host,\"=\",\"host\"))"
   ]
  },
  {
   "cell_type": "markdown",
   "metadata": {},
   "source": [
    "规则引擎：输入的格式有一定的规则可言？"
   ]
  },
  {
   "cell_type": "markdown",
   "metadata": {},
   "source": [
    "自己想的例子"
   ]
  },
  {
   "cell_type": "code",
   "execution_count": 46,
   "metadata": {},
   "outputs": [
    {
     "name": "stdout",
     "output_type": "stream",
     "text": [
      "皇子Q技能不可能是狩猎\n",
      "盲僧W技能不可能是德玛西亚正义\n",
      "盖伦W技能不可能是神龙摆尾\n",
      "盲僧Q技能不可能是神龙摆尾\n",
      "盖伦R技能肯定是德玛西亚正义\n",
      "盲僧R技能不可能是德玛西亚正义\n",
      "盲僧Q技能应该是天崩地裂\n",
      "轮子妈E技能绝对是天崩地裂\n",
      "盲僧R技能绝对是天崩地裂\n",
      "盲僧Q技能绝对是狩猎\n"
     ]
    }
   ],
   "source": [
    "league=\"\"\"\n",
    "league = 英雄 技能 是不是 大招\n",
    "英雄 = 轮子妈 | 盖伦 | 皇子 | 盲僧\n",
    "技能 = Q技能 | W技能 | E技能 | R技能\n",
    "是不是 = 肯定是 | 不可能是 | 绝对是 | 应该是\n",
    "大招 = 神龙摆尾 | 天崩地裂 | 德玛西亚正义 | 狩猎\n",
    "\n",
    "\n",
    "\"\"\"\n",
    "for formula in range(10):\n",
    "    print(generater_gramar_by_str(league,\"=\",\"league\"))"
   ]
  },
  {
   "cell_type": "markdown",
   "metadata": {},
   "source": [
    "# Date Driven"
   ]
  },
  {
   "cell_type": "markdown",
   "metadata": {},
   "source": [
    "目标是输入数据变化，程序不必改变\n",
    "\n",
    "AI？如何能自动化解决问题？找到一个方法：输入改变，使用的方法不变（规则引擎—>输入数据的高度抽象）"
   ]
  },
  {
   "cell_type": "code",
   "execution_count": 47,
   "metadata": {},
   "outputs": [],
   "source": [
    "simpel_programming = '''\n",
    "programming => if_stmt | assign | while_loop\n",
    "while_loop => while ( cond ) { change_line stmt change_line }\n",
    "if_stmt => if ( cond )  { change_line stmt change_line } | if ( cond )  { change_line stmt change_line } else { change_line stmt change_line } \n",
    "change_line => /N\n",
    "cond => var op var\n",
    "op => | == | < | >= | <= \n",
    "stmt => assign | if_stmt\n",
    "assign => var = var\n",
    "var =>  var _ num | words \n",
    "words => words _ word | word \n",
    "word => name | info |  student | lib | database \n",
    "nums => nums num | num\n",
    "num => 1 | 2 | 3 | 4 | 5 | 6 | 7 | 8 | 9 | 0\n",
    "'''"
   ]
  },
  {
   "cell_type": "code",
   "execution_count": 71,
   "metadata": {},
   "outputs": [
    {
     "name": "stdout",
     "output_type": "stream",
     "text": [
      "while(infoname){/Nstudent_info_name_info=database/N}\n",
      "['while(infoname){', 'student_info_name_info=database', '}']\n",
      "['                                                    while(infoname){', '                                                   student_info_name_info=database', '                                                  }']\n"
     ]
    }
   ],
   "source": [
    "# print(generater_gramar_by_str(simpel_programming,\"=>\",\"programming\"))\n",
    "lines=generater_gramar_by_str(simpel_programming,\"=>\",\"programming\")\n",
    "print(lines)\n",
    "line=lines.split(\"/N\")\n",
    "print(line)\n",
    "code_lines=[]\n",
    "for i,sen in enumerate(line):\n",
    "    if 1 < len(lines) < 2:\n",
    "        code_lines.append(i * \" \" + sen)\n",
    "    else:\n",
    "        code_lines.append((len(lines)-i) * \" \" + sen)\n",
    "print(code_lines)"
   ]
  },
  {
   "cell_type": "code",
   "execution_count": 72,
   "metadata": {},
   "outputs": [],
   "source": [
    "def pretty_print(line):\n",
    "    lines=line.split(\"/N\")\n",
    "    code_lines=[]\n",
    "    \n",
    "    for i,sen in enumerate(lines):\n",
    "        if 1 < len(lines) < 2:\n",
    "            code_lines.append(i * \" \" + sen)\n",
    "        else:\n",
    "            code_lines.append((len(lines)-i) * \" \" + sen)\n",
    "    return code_lines"
   ]
  },
  {
   "cell_type": "code",
   "execution_count": 73,
   "metadata": {},
   "outputs": [],
   "source": [
    "generated_programming=[]\n",
    "for i in range(20):\n",
    "    generated_programming+=pretty_print(generater_gramar_by_str(simpel_programming,\"=>\",\"programming\"))"
   ]
  },
  {
   "cell_type": "code",
   "execution_count": 74,
   "metadata": {},
   "outputs": [
    {
     "name": "stdout",
     "output_type": "stream",
     "text": [
      "   if(student_name_lib>=name_lib_name_8_6){\n",
      "  database_lib_1_8=name\n",
      " }\n",
      " name=lib_0_1_4_7\n",
      "     while(namestudent_database_3){\n",
      "    if(info_database_student_1_6<name_student_lib_student_info_0_7){\n",
      "   student_database_name_lib_8=name_database_database_0\n",
      "  }\n",
      " }\n",
      "   if(student==database){\n",
      "  lib_student_9_1_8=student_3\n",
      " }\n",
      "     while(info<=name_info_student_student_5_1){\n",
      "    if(info_6_7<=name_name_name_database_database_lib_lib_name_1){\n",
      "   info_info_database_database_9=name_name_student_7\n",
      "  }\n",
      " }\n",
      " student_4=info_student_lib_lib_6\n",
      "             if(info_namedatabase_student_student_student){\n",
      "            if(lib_5_4>=student_4){\n",
      "           info=info\n",
      "          }else{\n",
      "         database=database_database\n",
      "        }\n",
      "       }else{\n",
      "      if(student_database_database==info_lib){\n",
      "     lib_name_student_3_1=database_4\n",
      "    }else{\n",
      "   student_info=database_lib_9\n",
      "  }\n",
      " }\n",
      "       if(student_info>=info_name_info){\n",
      "      if(database==info){\n",
      "     student_6_2_7_7_2_4_3=database\n",
      "    }else{\n",
      "   name_9_6=name\n",
      "  }\n",
      " }\n",
      "     if(info==student){\n",
      "    name_database=lib_2_4\n",
      "   }else{\n",
      "  lib_database=lib\n",
      " }\n",
      " database_database_name_2=database_name_1_8\n",
      "   while(info_info_1<=student_lib_database_7_7_0_7_9_5_4_4){\n",
      "  name_info_info_3=lib_8\n",
      " }\n",
      " database_info_name_info_lib_info_lib_8=info_3_0_9\n",
      "                             if(libstudent){\n",
      "                            database_name=database\n",
      "                           }else{\n",
      "                          if(database_student_lib_7_4_9_3>=info_student){\n",
      "                         if(info_3_4>=name_9_3_3){\n",
      "                        if(lib_database_0<info_9){\n",
      "                       if(studentlib){\n",
      "                      if(info_3<database_2_4_9){\n",
      "                     if(name_6<=database_student){\n",
      "                    name=name_name_lib\n",
      "                   }\n",
      "                  }\n",
      "                 }else{\n",
      "                if(info_database_student>=lib_database){\n",
      "               if(name>=name){\n",
      "              if(name<student){\n",
      "             student_info_info_lib_info_info_database_database_lib=database_name_5\n",
      "            }else{\n",
      "           student_student_5=name_5\n",
      "          }\n",
      "         }else{\n",
      "        name=lib_name\n",
      "       }\n",
      "      }\n",
      "     }\n",
      "    }\n",
      "   }\n",
      "  }\n",
      " }\n",
      "     if(info_2name_database){\n",
      "    database_0=info_0\n",
      "   }else{\n",
      "  student_student_student_lib=name_4_9_7\n",
      " }\n",
      "     if(info_info<student){\n",
      "    if(name_database==lib){\n",
      "   info_2_4=student_info_name\n",
      "  }\n",
      " }\n",
      "                   while(database<=student){\n",
      "                  if(database_info>=lib){\n",
      "                 if(student_student>=name_7_8){\n",
      "                if(name_2<=lib){\n",
      "               name_2_1=database_3_2_9_5\n",
      "              }else{\n",
      "             if(info_student_student_lib_8database){\n",
      "            if(namedatabase_5){\n",
      "           info_7_8_1=student_5_1\n",
      "          }\n",
      "         }else{\n",
      "        student_student=info_8\n",
      "       }\n",
      "      }\n",
      "     }else{\n",
      "    database=name_lib_info_database_info_name_name_lib_name_student\n",
      "   }\n",
      "  }\n",
      " }\n",
      " info_database_name_0_2=name_7\n",
      "   while(student_6==lib_database_name_lib){\n",
      "  info_lib_3_1=lib_1_9_5_9_4_6\n",
      " }\n",
      " name_name=student\n",
      "             if(info<info){\n",
      "            if(database_6lib_lib_lib_0){\n",
      "           info_database_name_student=name\n",
      "          }else{\n",
      "         info_info_student_lib_lib_student_database=name\n",
      "        }\n",
      "       }else{\n",
      "      if(student_5_2lib_info_info_info_database_6_4){\n",
      "     name_database=lib_7\n",
      "    }else{\n",
      "   student_student_student_3=info_lib_6\n",
      "  }\n",
      " }\n"
     ]
    }
   ],
   "source": [
    "for line in generated_programming:\n",
    "    print(line)"
   ]
  },
  {
   "cell_type": "markdown",
   "metadata": {},
   "source": [
    "# Language model"
   ]
  },
  {
   "cell_type": "markdown",
   "metadata": {},
   "source": [
    "how to get Pr(w1|w2w3w4)?"
   ]
  },
  {
   "cell_type": "code",
   "execution_count": 3,
   "metadata": {},
   "outputs": [
    {
     "data": {
      "text/plain": [
       "63"
      ]
     },
     "execution_count": 3,
     "metadata": {},
     "output_type": "execute_result"
    }
   ],
   "source": [
    "import random\n",
    "random.choice(range(100))"
   ]
  },
  {
   "cell_type": "code",
   "execution_count": 4,
   "metadata": {},
   "outputs": [
    {
     "data": {
      "text/html": [
       "<div>\n",
       "<style scoped>\n",
       "    .dataframe tbody tr th:only-of-type {\n",
       "        vertical-align: middle;\n",
       "    }\n",
       "\n",
       "    .dataframe tbody tr th {\n",
       "        vertical-align: top;\n",
       "    }\n",
       "\n",
       "    .dataframe thead th {\n",
       "        text-align: right;\n",
       "    }\n",
       "</style>\n",
       "<table border=\"1\" class=\"dataframe\">\n",
       "  <thead>\n",
       "    <tr style=\"text-align: right;\">\n",
       "      <th></th>\n",
       "      <th>id</th>\n",
       "      <th>author</th>\n",
       "      <th>source</th>\n",
       "      <th>content</th>\n",
       "      <th>feature</th>\n",
       "      <th>title</th>\n",
       "      <th>url</th>\n",
       "    </tr>\n",
       "  </thead>\n",
       "  <tbody>\n",
       "    <tr>\n",
       "      <td>0</td>\n",
       "      <td>89617</td>\n",
       "      <td>NaN</td>\n",
       "      <td>快科技@http://www.kkj.cn/</td>\n",
       "      <td>此外，自本周（6月12日）起，除小米手机6等15款机型外，其余机型已暂停更新发布（含开发版/...</td>\n",
       "      <td>{\"type\":\"科技\",\"site\":\"cnbeta\",\"commentNum\":\"37\"...</td>\n",
       "      <td>小米MIUI 9首批机型曝光：共计15款</td>\n",
       "      <td>http://www.cnbeta.com/articles/tech/623597.htm</td>\n",
       "    </tr>\n",
       "    <tr>\n",
       "      <td>1</td>\n",
       "      <td>89616</td>\n",
       "      <td>NaN</td>\n",
       "      <td>快科技@http://www.kkj.cn/</td>\n",
       "      <td>骁龙835作为唯一通过Windows 10桌面平台认证的ARM处理器，高通强调，不会因为只考...</td>\n",
       "      <td>{\"type\":\"科技\",\"site\":\"cnbeta\",\"commentNum\":\"15\"...</td>\n",
       "      <td>骁龙835在Windows 10上的性能表现有望改善</td>\n",
       "      <td>http://www.cnbeta.com/articles/tech/623599.htm</td>\n",
       "    </tr>\n",
       "    <tr>\n",
       "      <td>2</td>\n",
       "      <td>89615</td>\n",
       "      <td>NaN</td>\n",
       "      <td>快科技@http://www.kkj.cn/</td>\n",
       "      <td>此前的一加3T搭载的是3400mAh电池，DashCharge快充规格为5V/4A。\\r\\n...</td>\n",
       "      <td>{\"type\":\"科技\",\"site\":\"cnbeta\",\"commentNum\":\"18\"...</td>\n",
       "      <td>一加手机5细节曝光：3300mAh、充半小时用1天</td>\n",
       "      <td>http://www.cnbeta.com/articles/tech/623601.htm</td>\n",
       "    </tr>\n",
       "    <tr>\n",
       "      <td>3</td>\n",
       "      <td>89614</td>\n",
       "      <td>NaN</td>\n",
       "      <td>新华社</td>\n",
       "      <td>这是6月18日在葡萄牙中部大佩德罗冈地区拍摄的被森林大火烧毁的汽车。新华社记者张立云摄\\r\\n</td>\n",
       "      <td>{\"type\":\"国际新闻\",\"site\":\"环球\",\"commentNum\":\"0\",\"j...</td>\n",
       "      <td>葡森林火灾造成至少62人死亡 政府宣布进入紧急状态（组图）</td>\n",
       "      <td>http://world.huanqiu.com/hot/2017-06/10866126....</td>\n",
       "    </tr>\n",
       "    <tr>\n",
       "      <td>4</td>\n",
       "      <td>89613</td>\n",
       "      <td>胡淑丽_MN7479</td>\n",
       "      <td>深圳大件事</td>\n",
       "      <td>（原标题：44岁女子跑深圳约会网友被拒，暴雨中裸身奔走……）\\r\\n@深圳交警微博称：昨日清...</td>\n",
       "      <td>{\"type\":\"新闻\",\"site\":\"网易热门\",\"commentNum\":\"978\",...</td>\n",
       "      <td>44岁女子约网友被拒暴雨中裸奔 交警为其披衣相随</td>\n",
       "      <td>http://news.163.com/17/0618/00/CN617P3Q0001875...</td>\n",
       "    </tr>\n",
       "  </tbody>\n",
       "</table>\n",
       "</div>"
      ],
      "text/plain": [
       "      id      author                  source  \\\n",
       "0  89617         NaN  快科技@http://www.kkj.cn/   \n",
       "1  89616         NaN  快科技@http://www.kkj.cn/   \n",
       "2  89615         NaN  快科技@http://www.kkj.cn/   \n",
       "3  89614         NaN                     新华社   \n",
       "4  89613  胡淑丽_MN7479                   深圳大件事   \n",
       "\n",
       "                                             content  \\\n",
       "0  此外，自本周（6月12日）起，除小米手机6等15款机型外，其余机型已暂停更新发布（含开发版/...   \n",
       "1  骁龙835作为唯一通过Windows 10桌面平台认证的ARM处理器，高通强调，不会因为只考...   \n",
       "2  此前的一加3T搭载的是3400mAh电池，DashCharge快充规格为5V/4A。\\r\\n...   \n",
       "3    这是6月18日在葡萄牙中部大佩德罗冈地区拍摄的被森林大火烧毁的汽车。新华社记者张立云摄\\r\\n   \n",
       "4  （原标题：44岁女子跑深圳约会网友被拒，暴雨中裸身奔走……）\\r\\n@深圳交警微博称：昨日清...   \n",
       "\n",
       "                                             feature  \\\n",
       "0  {\"type\":\"科技\",\"site\":\"cnbeta\",\"commentNum\":\"37\"...   \n",
       "1  {\"type\":\"科技\",\"site\":\"cnbeta\",\"commentNum\":\"15\"...   \n",
       "2  {\"type\":\"科技\",\"site\":\"cnbeta\",\"commentNum\":\"18\"...   \n",
       "3  {\"type\":\"国际新闻\",\"site\":\"环球\",\"commentNum\":\"0\",\"j...   \n",
       "4  {\"type\":\"新闻\",\"site\":\"网易热门\",\"commentNum\":\"978\",...   \n",
       "\n",
       "                           title  \\\n",
       "0           小米MIUI 9首批机型曝光：共计15款   \n",
       "1     骁龙835在Windows 10上的性能表现有望改善   \n",
       "2      一加手机5细节曝光：3300mAh、充半小时用1天   \n",
       "3  葡森林火灾造成至少62人死亡 政府宣布进入紧急状态（组图）   \n",
       "4       44岁女子约网友被拒暴雨中裸奔 交警为其披衣相随   \n",
       "\n",
       "                                                 url  \n",
       "0     http://www.cnbeta.com/articles/tech/623597.htm  \n",
       "1     http://www.cnbeta.com/articles/tech/623599.htm  \n",
       "2     http://www.cnbeta.com/articles/tech/623601.htm  \n",
       "3  http://world.huanqiu.com/hot/2017-06/10866126....  \n",
       "4  http://news.163.com/17/0618/00/CN617P3Q0001875...  "
      ]
     },
     "execution_count": 4,
     "metadata": {},
     "output_type": "execute_result"
    }
   ],
   "source": [
    "filename=\"/Users/56583/Desktop/NLP/sqlResult_1558435.csv\"\n",
    "import pandas as pd\n",
    "content=pd.read_csv(filename,encoding='gb18030')\n",
    "content.head()"
   ]
  },
  {
   "cell_type": "code",
   "execution_count": 5,
   "metadata": {},
   "outputs": [
    {
     "name": "stdout",
     "output_type": "stream",
     "text": [
      "在外国名著《麦田里的守望者》中，作者想要守护麦田里如自己内心一般纯真的孩子们。而驻村干部们，也在这个炎热的夏天里撸袖子上阵，真正做起了村民们的“麦田守望者”。\r\n",
      "三夏时节不等人\r\n",
      "你看到了吗？不停翻涌起伏、仿若铺陈至天边的金黄麦浪中，那若隐若现的人影，是自治区新闻出版广电局驻和田市肖尔巴格乡合尼村工作队的队员与工作队组织的青年志愿者。\r\n",
      "在这个炎热的夏季，他们深入田间地头，帮助村民们收割小麦。扛起收麦机，麦田中的每个人都显得兴致勃勃，一天下来就近22亩小麦收割完毕。\r\n",
      "志愿者麦麦提亚森擦去满脸的汗水，高兴地告诉驻村队员：“我们青年志愿者应该多做贡献，为村里的脱贫致富出把力。工作队带着我们为村里的老人服务，看到那些像我爷爷奶奶一样的老人赞许感谢的目光，我体会到了帮助他人的快乐。”（自治区新闻出版广电局驻村工作队孙敏 艾力依布拉音）\r\n",
      "麦收时节 我们在一起\r\n",
      "6月中旬的和田墨玉，麦田金黄，静待收割。\r\n",
      "6月14日、15日两天，自治区高级人民法院驻和田地区墨玉县吐外特乡罕勒克艾日克村工作队与48名村民志愿者一道，帮助村里29户有需要的村民进行小麦收割工作。\r\n",
      "田间地头，罕勒克艾日克村志愿队的红旗迎风飘扬，格外醒目。10余台割麦机一起轰鸣，男人们在用机器收割小麦的同时，几名妇女也加入到志愿队，构成了一道美丽的麦收风景。\r\n",
      "休息空闲，工作队员和村民们坐在树荫下、田埂上，互相问好、聊天。语言交流有困难，就用手势、动作比划着聊天，有趣地交流方式不时引来阵阵欢笑。大家在一同享受丰收和喜悦，也一同增进着彼此的情感和友谊。（自治区高级人民法院驻村工作队周春梅 艾地艾木·阿不拉）\r\n",
      "细看稻菽千重浪\r\n",
      "6月15日，自治区煤田灭火工程局的干部职工们再一次跋涉1000多公里来到了叶城县萨依巴格乡阿亚格欧尔达贝格村，见到了自己的亲戚。现场处处都透出掩盖不住的喜悦，一声声亲切的“谢谢”、一个个结实的拥抱，都透露出浓浓的亲情。\r\n",
      "没坐一会儿，在嘘寒问暖中大家了解到在麦收的关键时刻，部分村民家中却存在收割难的问题。小麦成熟期短，收获的时间集中，天气的变化对小麦最终产量的影响极大，如果不能及时收割，会有不小损失的。于是，大家几乎立刻就决定要帮助亲戚们收割麦子。\r\n",
      "在茂密的麦地里，干部们每人手持一把镰刀，一字排开，挽起衣袖、卷起裤腿，挥舞着镰刀进行着无声的竞赛。\r\n",
      "骄阳似火，汗如雨下，但这都挡不住大家的热情。随着此起彼伏的镰刀割倒麦子的“刷刷”声响，不一会，一束束沉甸甸的麦穗就被整齐地堆放了起来。\r\n",
      "当看到自己亲手收割的金黄色麦穗，被一簇簇地打成捆运送到晒场，每个人的脸上都露出了灿烂的笑容。（自治区煤田灭火工程局驻村工作队马浩南）\r\n",
      "这是一个收获多多的季节\r\n",
      "6月13日清晨6时许，和田地区民丰县若雅乡特开墩村的麦田里已经传来马达轰鸣声。原来是自治区质监局驻村工作队趁着天气尚且凉爽，开始了麦田的收割工作。\r\n",
      "忙碌间隙，志愿者队伍搬来清凉的水，村民们拎来鲜甜的西瓜，抹一把汗水，吃一牙西瓜，甜蜜的汁水似乎流进了每一个人的心里。\r\n",
      "说起割麦子，对于生活在这片土地上的村民来说是再平常不过的事，但是对于工作队队员们来说却是陌生的。\r\n",
      "自治区质监局驻民丰县若克雅乡博斯坦村工作队队员们一开始觉得十几个人一起收割二亩地应该会挺快的，结果却一点不简单。\r\n",
      "镰刀拿到自己手里割起来，考验才真正的开始。大家弓着腰、弯着腿，亦步亦趋，手上挥舞着镰刀，时刻注意不要让镰刀割到自己，脚下还要留心不要把套种的玉米苗踩伤，不一会儿，就已经汗流浃背了。抬头看看，身边的村民早就远远地割到前面去了，只有今年已经56岁的工作队队长李树刚有割麦经验，多少给队员们挽回了些“面子”。\r\n",
      "赶不上村民们割麦子的速度，更不要说搞定收割机这台大家伙了。“现代化的机械收割，能成倍提升小麦的收割速度。”李树刚说，“不过，能有这样的体验，拉近和村民的距离，也是很难得的体验。”（自治区质监局驻村工作队王辉 马君刚）\r\n",
      "我们是麦田的守护者\r\n",
      "为了应对麦收，新疆银监局驻和田县塔瓦库勒乡也先巴扎村工作队一早就从经济支援和人力支援两方面做好了准备。一方面，工作队帮村里购入了5台小麦收割机，另一边，还组织村干部、青年团员等组成了6支近百人的“收割先锋突击队”，帮助村民们抢收麦子。\r\n",
      "看着及时归仓的麦子，村民们喜得合不拢嘴，纷纷摘下自家杏树上的杏子送给工作队。金黄的麦穗温暖了村民们的心，香甜的杏子温暖了工作队员的心，麦子加杏子，拉近了村民和队员们的心……（新疆银监局驻村工作队王继发）\r\n",
      "免责声明：本文仅代表作者个人观点，与环球网无关。其原创性以及文中陈述文字和内容未经本站证实，对本文以及其中全部或者部分内容、文字的真实性、完整性、及时性本站不作任何保证或承诺，请读者仅作参考，并请自行核实相关内容。\r\n",
      "\n"
     ]
    },
    {
     "data": {
      "text/plain": [
       "89611"
      ]
     },
     "execution_count": 5,
     "metadata": {},
     "output_type": "execute_result"
    }
   ],
   "source": [
    "articles=content[\"content\"].tolist()\n",
    "print(articles[110])\n",
    "len(articles)"
   ]
  },
  {
   "cell_type": "code",
   "execution_count": 6,
   "metadata": {},
   "outputs": [],
   "source": [
    "import jieba\n",
    "import re"
   ]
  },
  {
   "cell_type": "code",
   "execution_count": 7,
   "metadata": {},
   "outputs": [],
   "source": [
    "def token(string):\n",
    "    return re.findall(\"\\w\",string)"
   ]
  },
  {
   "cell_type": "markdown",
   "metadata": {},
   "source": [
    "\\w匹配字母或数字或下划线或汉字"
   ]
  },
  {
   "cell_type": "code",
   "execution_count": 8,
   "metadata": {},
   "outputs": [
    {
     "name": "stderr",
     "output_type": "stream",
     "text": [
      "Building prefix dict from the default dictionary ...\n",
      "Loading model from cache C:\\Users\\56583\\AppData\\Local\\Temp\\jieba.cache\n",
      "Loading model cost 0.642 seconds.\n",
      "Prefix dict has been built successfully.\n"
     ]
    },
    {
     "data": {
      "text/plain": [
       "[('，', 88),\n",
       " ('的', 73),\n",
       " ('。', 39),\n",
       " ('\\r\\n', 27),\n",
       " ('了', 20),\n",
       " ('们', 18),\n",
       " ('工作队', 16),\n",
       " ('村民', 15),\n",
       " ('收割', 14),\n",
       " ('、', 12)]"
      ]
     },
     "execution_count": 8,
     "metadata": {},
     "output_type": "execute_result"
    }
   ],
   "source": [
    "from collections import Counter\n",
    "with_jieba_cut=Counter(jieba.cut(articles[110]))\n",
    "with_jieba_cut.most_common()[:10]"
   ]
  },
  {
   "cell_type": "code",
   "execution_count": 9,
   "metadata": {},
   "outputs": [
    {
     "data": {
      "text/plain": [
       "'在外国名著麦田里的守望者中作者想要守护麦田里如自己内心一般纯真的孩子们而驻村干部们也在这个炎热的夏天里撸袖子上阵真正做起了村民们的麦田守望者三夏时节不等人你看到了吗不停翻涌起伏仿若铺陈至天边的金黄麦浪中那若隐若现的人影是自治区新闻出版广电局驻和田市肖尔巴格乡合尼村工作队的队员与工作队组织的青年志愿者在这个炎热的夏季他们深入田间地头帮助村民们收割小麦扛起收麦机麦田中的每个人都显得兴致勃勃一天下来就近22亩小麦收割完毕志愿者麦麦提亚森擦去满脸的汗水高兴地告诉驻村队员我们青年志愿者应该多做贡献为村里的脱贫致富出把力工作队带着我们为村里的老人服务看到那些像我爷爷奶奶一样的老人赞许感谢的目光我体会到了帮助他人的快乐自治区新闻出版广电局驻村工作队孙敏艾力依布拉音麦收时节我们在一起6月中旬的和田墨玉麦田金黄静待收割6月14日15日两天自治区高级人民法院驻和田地区墨玉县吐外特乡罕勒克艾日克村工作队与48名村民志愿者一道帮助村里29户有需要的村民进行小麦收割工作田间地头罕勒克艾日克村志愿队的红旗迎风飘扬格外醒目10余台割麦机一起轰鸣男人们在用机器收割小麦的同时几名妇女也加入到志愿队构成了一道美丽的麦收风景休息空闲工作队员和村民们坐在树荫下田埂上互相问好聊天语言交流有困难就用手势动作比划着聊天有趣地交流方式不时引来阵阵欢笑大家在一同享受丰收和喜悦也一同增进着彼此的情感和友谊自治区高级人民法院驻村工作队周春梅艾地艾木阿不拉细看稻菽千重浪6月15日自治区煤田灭火工程局的干部职工们再一次跋涉1000多公里来到了叶城县萨依巴格乡阿亚格欧尔达贝格村见到了自己的亲戚现场处处都透出掩盖不住的喜悦一声声亲切的谢谢一个个结实的拥抱都透露出浓浓的亲情没坐一会儿在嘘寒问暖中大家了解到在麦收的关键时刻部分村民家中却存在收割难的问题小麦成熟期短收获的时间集中天气的变化对小麦最终产量的影响极大如果不能及时收割会有不小损失的于是大家几乎立刻就决定要帮助亲戚们收割麦子在茂密的麦地里干部们每人手持一把镰刀一字排开挽起衣袖卷起裤腿挥舞着镰刀进行着无声的竞赛骄阳似火汗如雨下但这都挡不住大家的热情随着此起彼伏的镰刀割倒麦子的刷刷声响不一会一束束沉甸甸的麦穗就被整齐地堆放了起来当看到自己亲手收割的金黄色麦穗被一簇簇地打成捆运送到晒场每个人的脸上都露出了灿烂的笑容自治区煤田灭火工程局驻村工作队马浩南这是一个收获多多的季节6月13日清晨6时许和田地区民丰县若雅乡特开墩村的麦田里已经传来马达轰鸣声原来是自治区质监局驻村工作队趁着天气尚且凉爽开始了麦田的收割工作忙碌间隙志愿者队伍搬来清凉的水村民们拎来鲜甜的西瓜抹一把汗水吃一牙西瓜甜蜜的汁水似乎流进了每一个人的心里说起割麦子对于生活在这片土地上的村民来说是再平常不过的事但是对于工作队队员们来说却是陌生的自治区质监局驻民丰县若克雅乡博斯坦村工作队队员们一开始觉得十几个人一起收割二亩地应该会挺快的结果却一点不简单镰刀拿到自己手里割起来考验才真正的开始大家弓着腰弯着腿亦步亦趋手上挥舞着镰刀时刻注意不要让镰刀割到自己脚下还要留心不要把套种的玉米苗踩伤不一会儿就已经汗流浃背了抬头看看身边的村民早就远远地割到前面去了只有今年已经56岁的工作队队长李树刚有割麦经验多少给队员们挽回了些面子赶不上村民们割麦子的速度更不要说搞定收割机这台大家伙了现代化的机械收割能成倍提升小麦的收割速度李树刚说不过能有这样的体验拉近和村民的距离也是很难得的体验自治区质监局驻村工作队王辉马君刚我们是麦田的守护者为了应对麦收新疆银监局驻和田县塔瓦库勒乡也先巴扎村工作队一早就从经济支援和人力支援两方面做好了准备一方面工作队帮村里购入了5台小麦收割机另一边还组织村干部青年团员等组成了6支近百人的收割先锋突击队帮助村民们抢收麦子看着及时归仓的麦子村民们喜得合不拢嘴纷纷摘下自家杏树上的杏子送给工作队金黄的麦穗温暖了村民们的心香甜的杏子温暖了工作队员的心麦子加杏子拉近了村民和队员们的心新疆银监局驻村工作队王继发免责声明本文仅代表作者个人观点与环球网无关其原创性以及文中陈述文字和内容未经本站证实对本文以及其中全部或者部分内容文字的真实性完整性及时性本站不作任何保证或承诺请读者仅作参考并请自行核实相关内容'"
      ]
     },
     "execution_count": 9,
     "metadata": {},
     "output_type": "execute_result"
    }
   ],
   "source": [
    "\"\".join(token(articles[110]))"
   ]
  },
  {
   "cell_type": "code",
   "execution_count": 10,
   "metadata": {},
   "outputs": [
    {
     "data": {
      "text/plain": [
       "['骁龙835作为唯一通过Windows10桌面平台认证的ARM处理器高通强调不会因为只考虑性能而去屏蔽掉小核心相反他们正联手微软找到一种适合桌面平台的兼顾性能和功耗的完美方案报道称微软已经拿到了一些新的源码以便Windows10更好地理解biglittle架构资料显示骁龙835作为一款集成了CPUGPU基带蓝牙WiFi的SoC比传统的Wintel方案可以节省至少30的PCB空间按计划今年Q4华硕惠普联想将首发骁龙835Win10电脑预计均是二合一形态的产品当然高通骁龙只是个开始未来也许还能见到三星Exynos联发科华为麒麟小米澎湃等进入Windows10桌面平台',\n",
       " '此前的一加3T搭载的是3400mAh电池DashCharge快充规格为5V4A至于电池缩水可能与刘作虎所说一加手机5要做市面最轻薄大屏旗舰的设定有关按照目前掌握的资料一加手机5拥有55寸1080P三星AMOLED显示屏6G8GBRAM64GB128GBROM双1600万摄像头备货量惊喜根据京东泄露的信息一加5起售价是xx99元应该是在279928992999中的某个']"
      ]
     },
     "execution_count": 10,
     "metadata": {},
     "output_type": "execute_result"
    }
   ],
   "source": [
    "articles_clean=[\"\".join(token(str(a)))for a in articles]\n",
    "articles_clean[1:3]"
   ]
  },
  {
   "cell_type": "markdown",
   "metadata": {},
   "source": [
    "articles_clean是一个list（含有所有content信息的list）"
   ]
  },
  {
   "cell_type": "code",
   "execution_count": 11,
   "metadata": {},
   "outputs": [
    {
     "data": {
      "text/plain": [
       "89611"
      ]
     },
     "execution_count": 11,
     "metadata": {},
     "output_type": "execute_result"
    }
   ],
   "source": [
    "len(articles_clean)"
   ]
  },
  {
   "cell_type": "code",
   "execution_count": 12,
   "metadata": {},
   "outputs": [],
   "source": [
    "with open(r\"C:\\Users\\56583\\Desktop\\articles_date.txt\",\"w\") as f:\n",
    "    for a in articles_clean:\n",
    "        f.write(a + \"\\n\")"
   ]
  },
  {
   "cell_type": "code",
   "execution_count": 13,
   "metadata": {},
   "outputs": [],
   "source": [
    "def cut(string):return list(jieba.cut(string))\n",
    "TOKEN=[]"
   ]
  },
  {
   "cell_type": "code",
   "execution_count": 14,
   "metadata": {},
   "outputs": [
    {
     "name": "stdout",
     "output_type": "stream",
     "text": [
      "['此前', '的', '一加', '3T', '搭载', '的', '是', '3400mAh', '电池', 'DashCharge', '快充', '规格', '为', '5V4A', '至于', '电池', '缩水', '可能', '与', '刘作', '虎', '所说', '一加', '手机', '5', '要', '做', '市面', '最', '轻薄', '大屏', '旗舰', '的', '设定', '有关', '按照', '目前', '掌握', '的', '资料', '一加', '手机', '5', '拥有', '55', '寸', '1080P', '三星', 'AMOLED', '显示屏', '6G8GBRAM64GB128GBROM', '双', '1600', '万', '摄像头', '备货', '量', '惊喜', '根据', '京东', '泄露', '的', '信息', '一加', '5', '起', '售价', '是', 'xx99', '元', '应该', '是', '在', '279928992999', '中', '的', '某个']\n",
      "此前的一加3T搭载的是3400mAh电池DashCharge快充规格为5V4A至于电池缩水可能与刘作虎所说一加手机5要做市面最轻薄大屏旗舰的设定有关按照目前掌握的资料一加手机5拥有55寸1080P三星AMOLED显示屏6G8GBRAM64GB128GBROM双1600万摄像头备货量惊喜根据京东泄露的信息一加5起售价是xx99元应该是在279928992999中的某个\n"
     ]
    }
   ],
   "source": [
    "print(cut(articles_clean[2]))\n",
    "print(articles_clean[2])"
   ]
  },
  {
   "cell_type": "code",
   "execution_count": 15,
   "metadata": {},
   "outputs": [
    {
     "name": "stdout",
     "output_type": "stream",
     "text": [
      "0\n",
      "100\n",
      "200\n",
      "300\n",
      "400\n",
      "500\n",
      "600\n",
      "700\n",
      "800\n",
      "900\n",
      "1000\n",
      "1100\n",
      "1200\n",
      "1300\n",
      "1400\n",
      "1500\n",
      "1600\n",
      "1700\n",
      "1800\n",
      "1900\n",
      "2000\n",
      "2100\n",
      "2200\n",
      "2300\n",
      "2400\n",
      "2500\n",
      "2600\n",
      "2700\n",
      "2800\n",
      "2900\n",
      "3000\n",
      "3100\n",
      "3200\n",
      "3300\n",
      "3400\n",
      "3500\n",
      "3600\n",
      "3700\n",
      "3800\n",
      "3900\n",
      "4000\n",
      "4100\n",
      "4200\n",
      "4300\n",
      "4400\n",
      "4500\n",
      "4600\n",
      "4700\n",
      "4800\n",
      "4900\n",
      "5000\n",
      "5100\n",
      "5200\n",
      "5300\n",
      "5400\n",
      "5500\n",
      "5600\n",
      "5700\n",
      "5800\n",
      "5900\n",
      "6000\n",
      "6100\n",
      "6200\n",
      "6300\n",
      "6400\n",
      "6500\n",
      "6600\n",
      "6700\n",
      "6800\n",
      "6900\n",
      "7000\n",
      "7100\n",
      "7200\n",
      "7300\n",
      "7400\n",
      "7500\n",
      "7600\n",
      "7700\n",
      "7800\n",
      "7900\n",
      "8000\n",
      "8100\n",
      "8200\n",
      "8300\n",
      "8400\n",
      "8500\n",
      "8600\n",
      "8700\n",
      "8800\n",
      "8900\n",
      "9000\n",
      "9100\n",
      "9200\n",
      "9300\n",
      "9400\n",
      "9500\n",
      "9600\n",
      "9700\n",
      "9800\n",
      "9900\n",
      "10000\n",
      "10100\n",
      "10200\n",
      "10300\n",
      "10400\n",
      "10500\n",
      "10600\n",
      "10700\n",
      "10800\n",
      "10900\n",
      "11000\n",
      "11100\n",
      "11200\n",
      "11300\n",
      "11400\n",
      "11500\n",
      "11600\n",
      "11700\n",
      "11800\n",
      "11900\n",
      "12000\n",
      "12100\n",
      "12200\n",
      "12300\n",
      "12400\n",
      "12500\n",
      "12600\n",
      "12700\n",
      "12800\n",
      "12900\n",
      "13000\n",
      "13100\n",
      "13200\n",
      "13300\n",
      "13400\n",
      "13500\n",
      "13600\n",
      "13700\n",
      "13800\n",
      "13900\n",
      "14000\n",
      "14100\n",
      "14200\n",
      "14300\n",
      "14400\n",
      "14500\n",
      "14600\n",
      "14700\n",
      "14800\n",
      "14900\n",
      "15000\n",
      "15100\n",
      "15200\n",
      "15300\n",
      "15400\n",
      "15500\n",
      "15600\n",
      "15700\n",
      "15800\n",
      "15900\n",
      "16000\n",
      "16100\n",
      "16200\n",
      "16300\n",
      "16400\n",
      "16500\n",
      "16600\n",
      "16700\n",
      "16800\n",
      "16900\n",
      "17000\n",
      "17100\n",
      "17200\n",
      "17300\n",
      "17400\n",
      "17500\n",
      "17600\n",
      "17700\n",
      "17800\n",
      "17900\n",
      "18000\n",
      "18100\n",
      "18200\n",
      "18300\n",
      "18400\n",
      "18500\n",
      "18600\n",
      "18700\n",
      "18800\n",
      "18900\n",
      "19000\n",
      "19100\n",
      "19200\n",
      "19300\n",
      "19400\n",
      "19500\n",
      "19600\n",
      "19700\n",
      "19800\n",
      "19900\n",
      "20000\n",
      "20100\n",
      "20200\n",
      "20300\n",
      "20400\n",
      "20500\n",
      "20600\n",
      "20700\n",
      "20800\n",
      "20900\n",
      "21000\n",
      "21100\n",
      "21200\n",
      "21300\n",
      "21400\n",
      "21500\n",
      "21600\n",
      "21700\n",
      "21800\n",
      "21900\n",
      "22000\n",
      "22100\n",
      "22200\n",
      "22300\n",
      "22400\n",
      "22500\n",
      "22600\n",
      "22700\n",
      "22800\n",
      "22900\n",
      "23000\n",
      "23100\n",
      "23200\n",
      "23300\n",
      "23400\n",
      "23500\n",
      "23600\n",
      "23700\n",
      "23800\n",
      "23900\n",
      "24000\n",
      "24100\n",
      "24200\n",
      "24300\n",
      "24400\n",
      "24500\n",
      "24600\n",
      "24700\n",
      "24800\n",
      "24900\n",
      "25000\n",
      "25100\n",
      "25200\n",
      "25300\n",
      "25400\n",
      "25500\n",
      "25600\n",
      "25700\n",
      "25800\n",
      "25900\n",
      "26000\n",
      "26100\n",
      "26200\n",
      "26300\n",
      "26400\n",
      "26500\n",
      "26600\n",
      "26700\n",
      "26800\n",
      "26900\n",
      "27000\n",
      "27100\n",
      "27200\n",
      "27300\n",
      "27400\n",
      "27500\n",
      "27600\n",
      "27700\n",
      "27800\n",
      "27900\n",
      "28000\n",
      "28100\n",
      "28200\n",
      "28300\n",
      "28400\n",
      "28500\n",
      "28600\n",
      "28700\n",
      "28800\n",
      "28900\n",
      "29000\n",
      "29100\n",
      "29200\n",
      "29300\n",
      "29400\n",
      "29500\n",
      "29600\n",
      "29700\n",
      "29800\n",
      "29900\n",
      "30000\n",
      "30100\n",
      "30200\n",
      "30300\n",
      "30400\n",
      "30500\n",
      "30600\n",
      "30700\n",
      "30800\n",
      "30900\n",
      "31000\n",
      "31100\n",
      "31200\n",
      "31300\n",
      "31400\n",
      "31500\n",
      "31600\n",
      "31700\n",
      "31800\n",
      "31900\n",
      "32000\n",
      "32100\n",
      "32200\n",
      "32300\n",
      "32400\n",
      "32500\n",
      "32600\n",
      "32700\n",
      "32800\n",
      "32900\n",
      "33000\n",
      "33100\n",
      "33200\n",
      "33300\n",
      "33400\n",
      "33500\n",
      "33600\n",
      "33700\n",
      "33800\n",
      "33900\n",
      "34000\n",
      "34100\n",
      "34200\n",
      "34300\n",
      "34400\n",
      "34500\n",
      "34600\n",
      "34700\n",
      "34800\n",
      "34900\n",
      "35000\n",
      "35100\n",
      "35200\n",
      "35300\n",
      "35400\n",
      "35500\n",
      "35600\n",
      "35700\n",
      "35800\n",
      "35900\n",
      "36000\n",
      "36100\n",
      "36200\n",
      "36300\n",
      "36400\n",
      "36500\n",
      "36600\n",
      "36700\n",
      "36800\n",
      "36900\n",
      "37000\n",
      "37100\n",
      "37200\n",
      "37300\n",
      "37400\n",
      "37500\n",
      "37600\n",
      "37700\n",
      "37800\n",
      "37900\n",
      "38000\n",
      "38100\n",
      "38200\n",
      "38300\n",
      "38400\n",
      "38500\n",
      "38600\n",
      "38700\n",
      "38800\n",
      "38900\n",
      "39000\n",
      "39100\n",
      "39200\n",
      "39300\n",
      "39400\n",
      "39500\n",
      "39600\n",
      "39700\n",
      "39800\n",
      "39900\n",
      "40000\n",
      "40100\n",
      "40200\n",
      "40300\n",
      "40400\n",
      "40500\n",
      "40600\n",
      "40700\n",
      "40800\n",
      "40900\n",
      "41000\n",
      "41100\n",
      "41200\n",
      "41300\n",
      "41400\n",
      "41500\n",
      "41600\n",
      "41700\n",
      "41800\n",
      "41900\n",
      "42000\n",
      "42100\n",
      "42200\n",
      "42300\n",
      "42400\n",
      "42500\n",
      "42600\n",
      "42700\n",
      "42800\n",
      "42900\n",
      "43000\n",
      "43100\n",
      "43200\n",
      "43300\n",
      "43400\n",
      "43500\n",
      "43600\n",
      "43700\n",
      "43800\n",
      "43900\n",
      "44000\n",
      "44100\n",
      "44200\n",
      "44300\n",
      "44400\n",
      "44500\n",
      "44600\n",
      "44700\n",
      "44800\n",
      "44900\n",
      "45000\n",
      "45100\n",
      "45200\n",
      "45300\n",
      "45400\n",
      "45500\n",
      "45600\n",
      "45700\n",
      "45800\n",
      "45900\n",
      "46000\n",
      "46100\n",
      "46200\n",
      "46300\n",
      "46400\n",
      "46500\n",
      "46600\n",
      "46700\n",
      "46800\n",
      "46900\n",
      "47000\n",
      "47100\n",
      "47200\n",
      "47300\n",
      "47400\n",
      "47500\n",
      "47600\n",
      "47700\n",
      "47800\n",
      "47900\n",
      "48000\n",
      "48100\n",
      "48200\n",
      "48300\n",
      "48400\n",
      "48500\n",
      "48600\n",
      "48700\n",
      "48800\n",
      "48900\n",
      "49000\n",
      "49100\n",
      "49200\n",
      "49300\n",
      "49400\n",
      "49500\n",
      "49600\n",
      "49700\n",
      "49800\n",
      "49900\n",
      "50000\n",
      "50100\n",
      "50200\n",
      "50300\n",
      "50400\n",
      "50500\n",
      "50600\n",
      "50700\n",
      "50800\n",
      "50900\n",
      "51000\n",
      "51100\n",
      "51200\n",
      "51300\n",
      "51400\n",
      "51500\n",
      "51600\n",
      "51700\n",
      "51800\n",
      "51900\n",
      "52000\n",
      "52100\n",
      "52200\n",
      "52300\n",
      "52400\n",
      "52500\n",
      "52600\n",
      "52700\n",
      "52800\n",
      "52900\n",
      "53000\n",
      "53100\n",
      "53200\n",
      "53300\n",
      "53400\n",
      "53500\n",
      "53600\n",
      "53700\n",
      "53800\n",
      "53900\n",
      "54000\n",
      "54100\n",
      "54200\n",
      "54300\n",
      "54400\n",
      "54500\n",
      "54600\n",
      "54700\n",
      "54800\n",
      "54900\n",
      "55000\n",
      "55100\n",
      "55200\n",
      "55300\n",
      "55400\n",
      "55500\n",
      "55600\n",
      "55700\n",
      "55800\n",
      "55900\n",
      "56000\n",
      "56100\n",
      "56200\n",
      "56300\n",
      "56400\n",
      "56500\n",
      "56600\n",
      "56700\n",
      "56800\n",
      "56900\n",
      "57000\n",
      "57100\n",
      "57200\n",
      "57300\n",
      "57400\n",
      "57500\n",
      "57600\n",
      "57700\n",
      "57800\n",
      "57900\n",
      "58000\n",
      "58100\n",
      "58200\n",
      "58300\n",
      "58400\n",
      "58500\n",
      "58600\n",
      "58700\n",
      "58800\n",
      "58900\n",
      "59000\n",
      "59100\n",
      "59200\n",
      "59300\n",
      "59400\n",
      "59500\n",
      "59600\n",
      "59700\n",
      "59800\n",
      "59900\n",
      "60000\n",
      "60100\n",
      "60200\n",
      "60300\n",
      "60400\n",
      "60500\n",
      "60600\n",
      "60700\n",
      "60800\n",
      "60900\n",
      "61000\n",
      "61100\n",
      "61200\n",
      "61300\n",
      "61400\n",
      "61500\n",
      "61600\n",
      "61700\n",
      "61800\n",
      "61900\n",
      "62000\n",
      "62100\n",
      "62200\n",
      "62300\n",
      "62400\n",
      "62500\n",
      "62600\n",
      "62700\n",
      "62800\n",
      "62900\n",
      "63000\n",
      "63100\n",
      "63200\n",
      "63300\n",
      "63400\n",
      "63500\n",
      "63600\n",
      "63700\n",
      "63800\n",
      "63900\n",
      "64000\n",
      "64100\n",
      "64200\n",
      "64300\n",
      "64400\n",
      "64500\n",
      "64600\n",
      "64700\n",
      "64800\n",
      "64900\n",
      "65000\n",
      "65100\n",
      "65200\n",
      "65300\n",
      "65400\n",
      "65500\n",
      "65600\n",
      "65700\n",
      "65800\n",
      "65900\n",
      "66000\n",
      "66100\n",
      "66200\n",
      "66300\n",
      "66400\n",
      "66500\n",
      "66600\n",
      "66700\n",
      "66800\n",
      "66900\n",
      "67000\n",
      "67100\n",
      "67200\n",
      "67300\n",
      "67400\n",
      "67500\n",
      "67600\n",
      "67700\n",
      "67800\n",
      "67900\n",
      "68000\n",
      "68100\n",
      "68200\n",
      "68300\n",
      "68400\n",
      "68500\n",
      "68600\n",
      "68700\n",
      "68800\n",
      "68900\n",
      "69000\n",
      "69100\n",
      "69200\n",
      "69300\n",
      "69400\n",
      "69500\n",
      "69600\n",
      "69700\n",
      "69800\n",
      "69900\n",
      "70000\n",
      "70100\n",
      "70200\n",
      "70300\n",
      "70400\n",
      "70500\n",
      "70600\n",
      "70700\n",
      "70800\n",
      "70900\n",
      "71000\n",
      "71100\n",
      "71200\n",
      "71300\n",
      "71400\n",
      "71500\n",
      "71600\n",
      "71700\n",
      "71800\n",
      "71900\n",
      "72000\n",
      "72100\n",
      "72200\n",
      "72300\n",
      "72400\n",
      "72500\n",
      "72600\n",
      "72700\n",
      "72800\n",
      "72900\n",
      "73000\n",
      "73100\n",
      "73200\n",
      "73300\n",
      "73400\n",
      "73500\n",
      "73600\n",
      "73700\n",
      "73800\n",
      "73900\n",
      "74000\n",
      "74100\n",
      "74200\n",
      "74300\n",
      "74400\n",
      "74500\n",
      "74600\n",
      "74700\n",
      "74800\n",
      "74900\n",
      "75000\n",
      "75100\n",
      "75200\n",
      "75300\n",
      "75400\n",
      "75500\n",
      "75600\n",
      "75700\n",
      "75800\n",
      "75900\n",
      "76000\n",
      "76100\n",
      "76200\n",
      "76300\n",
      "76400\n",
      "76500\n",
      "76600\n",
      "76700\n",
      "76800\n",
      "76900\n",
      "77000\n",
      "77100\n",
      "77200\n",
      "77300\n",
      "77400\n",
      "77500\n",
      "77600\n",
      "77700\n",
      "77800\n",
      "77900\n",
      "78000\n",
      "78100\n",
      "78200\n",
      "78300\n",
      "78400\n",
      "78500\n",
      "78600\n",
      "78700\n",
      "78800\n",
      "78900\n",
      "79000\n",
      "79100\n",
      "79200\n",
      "79300\n",
      "79400\n",
      "79500\n",
      "79600\n",
      "79700\n",
      "79800\n",
      "79900\n",
      "80000\n"
     ]
    }
   ],
   "source": [
    "for i,line in enumerate(open(r\"C:\\Users\\56583\\Desktop\\articles_date.txt\")):\n",
    "    if i % 100 == 0:print(i)\n",
    "    if i >80000:break\n",
    "    TOKEN+=cut(line)"
   ]
  },
  {
   "cell_type": "code",
   "execution_count": 47,
   "metadata": {},
   "outputs": [
    {
     "data": {
      "text/plain": [
       "[('的', 636745),\n",
       " ('n', 333951),\n",
       " ('在', 235680),\n",
       " ('月', 168089),\n",
       " ('日', 147951),\n",
       " ('新华社', 124750),\n",
       " ('和', 121359),\n",
       " ('了', 110793),\n",
       " ('年', 108513),\n",
       " ('是', 91726),\n",
       " ('\\n', 80001),\n",
       " ('１', 77751),\n",
       " ('０', 74423),\n",
       " ('外代', 73144),\n",
       " ('中', 64740),\n",
       " ('中国', 64079),\n",
       " ('２', 62511),\n",
       " ('2017', 60278),\n",
       " ('将', 55515),\n",
       " ('记者', 54627),\n",
       " ('二线', 54488),\n",
       " ('等', 52707),\n",
       " ('与', 52681),\n",
       " ('为', 51951),\n",
       " ('5', 48881),\n",
       " ('4', 47905),\n",
       " ('照片', 45889),\n",
       " ('对', 45608),\n",
       " ('也', 43158),\n",
       " ('上', 42865),\n",
       " ('有', 42003),\n",
       " ('５', 35711),\n",
       " ('说', 34799),\n",
       " ('发展', 34304),\n",
       " ('他', 33999),\n",
       " ('以', 32602),\n",
       " ('国际', 32200),\n",
       " ('３', 31869),\n",
       " ('４', 31059),\n",
       " ('nn', 31031),\n",
       " ('到', 26996),\n",
       " ('比赛', 26766),\n",
       " ('人', 26623),\n",
       " ('从', 26608),\n",
       " ('不', 25768),\n",
       " ('都', 25391),\n",
       " ('６', 25344),\n",
       " ('后', 24707),\n",
       " ('就', 24267),\n",
       " ('企业', 24046),\n",
       " ('并', 23926),\n",
       " ('国家', 23778),\n",
       " ('７', 23305),\n",
       " ('当日', 23290),\n",
       " ('进行', 22922),\n",
       " ('美国', 22873),\n",
       " ('被', 22790),\n",
       " ('北京', 22739),\n",
       " ('这', 22115),\n",
       " ('举行', 21860),\n",
       " ('新', 21696),\n",
       " ('3', 21533),\n",
       " ('体育', 21480),\n",
       " ('但', 21381),\n",
       " ('个', 20770),\n",
       " ('n4', 20561),\n",
       " ('足球', 20520),\n",
       " ('2', 20306),\n",
       " ('表示', 20106),\n",
       " ('经济', 19975),\n",
       " ('比', 19939),\n",
       " ('1', 19927),\n",
       " ('一个', 19882),\n",
       " ('我', 19775),\n",
       " ('还', 19724),\n",
       " ('6', 19671),\n",
       " ('９', 19512),\n",
       " ('要', 19371),\n",
       " ('合作', 19281),\n",
       " ('n5', 19119),\n",
       " ('工作', 18986),\n",
       " ('已', 18665),\n",
       " ('８', 18259),\n",
       " ('我们', 18230),\n",
       " ('一路', 17946),\n",
       " ('一带', 17891),\n",
       " ('摄', 17827),\n",
       " ('市场', 17549),\n",
       " ('建设', 17234),\n",
       " ('让', 16594),\n",
       " ('通过', 16454),\n",
       " ('公司', 16079),\n",
       " ('日电', 16036),\n",
       " ('多', 16021),\n",
       " ('问题', 16004),\n",
       " ('时', 16000),\n",
       " ('于', 15816),\n",
       " ('项目', 15707),\n",
       " ('会', 15674),\n",
       " ('更', 15638)]"
      ]
     },
     "execution_count": 47,
     "metadata": {},
     "output_type": "execute_result"
    }
   ],
   "source": [
    "from collections import Counter\n",
    "words_counter=Counter(TOKEN)\n",
    "words_counter.most_common(100)"
   ]
  },
  {
   "cell_type": "markdown",
   "metadata": {},
   "source": [
    "统计上述词出现的频数，绘制直观频数图"
   ]
  },
  {
   "cell_type": "code",
   "execution_count": 48,
   "metadata": {},
   "outputs": [
    {
     "data": {
      "text/plain": [
       "[<matplotlib.lines.Line2D at 0x271dfb6eb48>]"
      ]
     },
     "execution_count": 48,
     "metadata": {},
     "output_type": "execute_result"
    },
    {
     "data": {
      "image/png": "[encoded data removed]",
      "text/plain": [
       "<Figure size 432x288 with 1 Axes>"
      ]
     },
     "metadata": {
      "needs_background": "light"
     },
     "output_type": "display_data"
    }
   ],
   "source": [
    "frequiences=[f for w,f in worlds_counter.most_common(100)]\n",
    "x=[i for i in range(100)]\n",
    "%matplotlib inline\n",
    "import matplotlib.pyplot as plt\n",
    "plt.plot(x,frequiences)"
   ]
  },
  {
   "cell_type": "markdown",
   "metadata": {},
   "source": [
    "将y轴变为In(frequiences)"
   ]
  },
  {
   "cell_type": "code",
   "execution_count": 49,
   "metadata": {},
   "outputs": [
    {
     "data": {
      "text/plain": [
       "[<matplotlib.lines.Line2D at 0x271dfdc38c8>]"
      ]
     },
     "execution_count": 49,
     "metadata": {},
     "output_type": "execute_result"
    },
    {
     "data": {
      "image/png": "[encoded data removed]",
      "text/plain": [
       "<Figure size 432x288 with 1 Axes>"
      ]
     },
     "metadata": {
      "needs_background": "light"
     },
     "output_type": "display_data"
    }
   ],
   "source": [
    "import numpy as np\n",
    "plt.plot(x,np.log(frequiences))"
   ]
  },
  {
   "cell_type": "markdown",
   "metadata": {},
   "source": [
    "计算某个切分的词出现的概率"
   ]
  },
  {
   "cell_type": "code",
   "execution_count": 54,
   "metadata": {},
   "outputs": [
    {
     "name": "stdout",
     "output_type": "stream",
     "text": [
      "15869881\n"
     ]
    }
   ],
   "source": [
    "print(len(TOKEN))\n",
    "def prob_1(word):\n",
    "    return words_counter[word] / len(TOKEN)"
   ]
  },
  {
   "cell_type": "code",
   "execution_count": 55,
   "metadata": {},
   "outputs": [
    {
     "data": {
      "text/plain": [
       "0.0011487168681353062"
      ]
     },
     "execution_count": 55,
     "metadata": {},
     "output_type": "execute_result"
    }
   ],
   "source": [
    "prob_1(\"我们\")"
   ]
  },
  {
   "cell_type": "code",
   "execution_count": 57,
   "metadata": {},
   "outputs": [
    {
     "data": {
      "text/plain": [
       "['此外', '自', '本周', '6', '月', '12', '日起', '除', '小米', '手机']"
      ]
     },
     "execution_count": 57,
     "metadata": {},
     "output_type": "execute_result"
    }
   ],
   "source": [
    "TOKEN[:10]"
   ]
  },
  {
   "cell_type": "markdown",
   "metadata": {},
   "source": [
    "计算两个词在一起出现的概率"
   ]
  },
  {
   "cell_type": "code",
   "execution_count": 62,
   "metadata": {},
   "outputs": [
    {
     "data": {
      "text/plain": [
       "['此外自', '自本周', '本周6', '6月', '月12', '12日起', '日起除', '除小米', '小米手机', '手机6']"
      ]
     },
     "execution_count": 62,
     "metadata": {},
     "output_type": "execute_result"
    }
   ],
   "source": [
    "TOKEN=[str(i) for i in TOKEN]\n",
    "TOKEN_2_GRAM=[''.join(TOKEN[i:i+2]) for i in range(len(TOKEN[:-2]))]\n",
    "TOKEN_2_GRAM[:10]"
   ]
  },
  {
   "cell_type": "code",
   "execution_count": 72,
   "metadata": {},
   "outputs": [
    {
     "data": {
      "text/plain": [
       "collections.Counter"
      ]
     },
     "execution_count": 72,
     "metadata": {},
     "output_type": "execute_result"
    }
   ],
   "source": [
    "words_count_2=Counter(TOKEN_2_GRAM)\n",
    "type(words_count_2)"
   ]
  },
  {
   "cell_type": "code",
   "execution_count": 73,
   "metadata": {},
   "outputs": [],
   "source": [
    "def Prob_2(word1,word2):\n",
    "    if word1+word2 in TOKEN_2_GRAM:return words_count_2[word1+word2]/len(TOKEN_2_GRAM)\n",
    "    else:return 1/len(TOKEN_2_GRAM)"
   ]
  },
  {
   "cell_type": "code",
   "execution_count": 74,
   "metadata": {},
   "outputs": [
    {
     "data": {
      "text/plain": [
       "3.1317188996841125e-05"
      ]
     },
     "execution_count": 74,
     "metadata": {},
     "output_type": "execute_result"
    }
   ],
   "source": [
    "Prob_2(\"我们\",\"在\")"
   ]
  },
  {
   "cell_type": "code",
   "execution_count": 75,
   "metadata": {},
   "outputs": [
    {
     "data": {
      "text/plain": [
       "3.150622635497095e-07"
      ]
     },
     "execution_count": 75,
     "metadata": {},
     "output_type": "execute_result"
    }
   ],
   "source": [
    "Prob_2(\"在\",\"吃饭\")"
   ]
  },
  {
   "cell_type": "code",
   "execution_count": 76,
   "metadata": {},
   "outputs": [
    {
     "data": {
      "text/plain": [
       "1.260249054198838e-07"
      ]
     },
     "execution_count": 76,
     "metadata": {},
     "output_type": "execute_result"
    }
   ],
   "source": [
    "Prob_2(\"去\",\"吃饭\")"
   ]
  },
  {
   "cell_type": "markdown",
   "metadata": {},
   "source": [
    "计算per sentence 出现的概率"
   ]
  },
  {
   "cell_type": "code",
   "execution_count": 97,
   "metadata": {},
   "outputs": [],
   "source": [
    "def get_prob(sentence):\n",
    "    words=cut(sentence)\n",
    "    sentence_prob=1\n",
    "    for i,word in enumerate(words[:-1]):\n",
    "        next_ = words[i+1]\n",
    "        prob_2=Prob_2(word,next_)\n",
    "        sentence_prob *= prob_2\n",
    "    return sentence_prob"
   ]
  },
  {
   "cell_type": "code",
   "execution_count": 98,
   "metadata": {},
   "outputs": [
    {
     "data": {
      "text/plain": [
       "1.341113984227968e-34"
      ]
     },
     "execution_count": 98,
     "metadata": {},
     "output_type": "execute_result"
    }
   ],
   "source": [
    "get_prob(\"小明今天抽到了一台iphone\")"
   ]
  },
  {
   "cell_type": "code",
   "execution_count": 99,
   "metadata": {},
   "outputs": [
    {
     "data": {
      "text/plain": [
       "1.093397099625878e-46"
      ]
     },
     "execution_count": 99,
     "metadata": {},
     "output_type": "execute_result"
    }
   ],
   "source": [
    "get_prob(\"明天的天气是晴天，可以出去玩\")"
   ]
  },
  {
   "cell_type": "code",
   "execution_count": 100,
   "metadata": {},
   "outputs": [
    {
     "data": {
      "text/plain": [
       "3.970569196522664e-15"
      ]
     },
     "execution_count": 100,
     "metadata": {},
     "output_type": "execute_result"
    }
   ],
   "source": [
    "get_prob(\"小明爱喝养乐多\")"
   ]
  },
  {
   "cell_type": "code",
   "execution_count": 128,
   "metadata": {},
   "outputs": [
    {
     "name": "stdout",
     "output_type": "stream",
     "text": [
      "sentence: 您好我是275号,您需要null赌博吗？ with prob is 6.2558771313928855e-77\n",
      "sentence: 先生,你好我是3号,请问你要null打牌吗？ with prob is 1.0329228095092299e-91\n",
      "sentence: 您好我是1号,请问你要null打猎吗？ with prob is 1.1370882498934405e-77\n",
      "sentence: 女士,您好我是3号,您需要null打猎吗？ with prob is 6.011133114503675e-88\n",
      "sentence: 您好我是7号,您需要null打牌吗？ with prob is 6.1307595887650286e-74\n",
      "sentence: 您好我是2号,您需要null喝酒吗？ with prob is 1.8917772445332082e-73\n",
      "sentence: 您好我是7号,请问你要null喝酒吗？ with prob is 2.34106404389826e-78\n",
      "sentence: 先生,你好我是75号,请问你要null打猎吗？ with prob is 2.5609656434113134e-94\n",
      "sentence: 先生,你好我是74号,请问你要null打牌吗？ with prob is 4.26827607235219e-95\n",
      "sentence: 先生,你好我是6号,请问你要null打猎吗？ with prob is 8.536552144704378e-92\n"
     ]
    }
   ],
   "source": [
    "for sen in [generater_gramar_by_str(host,\"=\",\"host\") for i in range(10)]:\n",
    "    print(\"sentence: {} with prob is {}\".format(sen,get_prob(sen)))\n"
   ]
  }
 ],
 "metadata": {
  "kernelspec": {
   "display_name": "Python 3",
   "language": "python",
   "name": "python3"
  },
  "language_info": {
   "codemirror_mode": {
    "name": "ipython",
    "version": 3
   },
   "file_extension": ".py",
   "mimetype": "text/x-python",
   "name": "python",
   "nbconvert_exporter": "python",
   "pygments_lexer": "ipython3",
   "version": "3.7.4"
  }
 },
 "nbformat": 4,
 "nbformat_minor": 2
}
